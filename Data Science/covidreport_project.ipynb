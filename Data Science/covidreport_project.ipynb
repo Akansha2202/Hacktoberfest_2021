{
 "cells": [
  {
   "cell_type": "markdown",
   "id": "56414d4f",
   "metadata": {},
   "source": [
    "<h1 style = \"color:red\">Covid-19 Model Analysis</h1>"
   ]
  },
  {
   "cell_type": "markdown",
   "id": "efe062c1",
   "metadata": {},
   "source": [
    "<h3>Python/DataScience Internship Program</h3>\n",
    "<hr>\n",
    "<h3>Batch Code- PD04</h3>\n",
    "<h3>Name- Nitin Diwakar</h3>\n",
    "<h3>Guided/Instructed by- Miss Shubhangi Sonker</h3>"
   ]
  },
  {
   "cell_type": "markdown",
   "id": "d87b4e11",
   "metadata": {},
   "source": [
    "#### Importing Modules"
   ]
  },
  {
   "cell_type": "code",
   "execution_count": 1,
   "id": "fa669160",
   "metadata": {},
   "outputs": [],
   "source": [
    "%matplotlib inline\n",
    "\n",
    "import numpy as np\n",
    "# import matplotlib as mpl\n",
    "import pandas as pd\n",
    "import seaborn as sns\n",
    "import os\n",
    "import matplotlib.pyplot as plt\n",
    "\n",
    "plt.style.use(\"ggplot\")\n",
    "\n",
    "import warnings\n",
    "warnings.filterwarnings(\"ignore\")"
   ]
  },
  {
   "cell_type": "markdown",
   "id": "5d3855cc",
   "metadata": {},
   "source": [
    "### Loading Data"
   ]
  },
  {
   "cell_type": "code",
   "execution_count": 2,
   "id": "ec94f8bd",
   "metadata": {},
   "outputs": [],
   "source": [
    "covid = pd.read_csv(\"covidreports.csv\")"
   ]
  },
  {
   "cell_type": "markdown",
   "id": "07c4e8c3",
   "metadata": {},
   "source": [
    "### Analysis the data"
   ]
  },
  {
   "cell_type": "code",
   "execution_count": 3,
   "id": "64dc95e5",
   "metadata": {},
   "outputs": [
    {
     "data": {
      "text/html": [
       "<div>\n",
       "<style scoped>\n",
       "    .dataframe tbody tr th:only-of-type {\n",
       "        vertical-align: middle;\n",
       "    }\n",
       "\n",
       "    .dataframe tbody tr th {\n",
       "        vertical-align: top;\n",
       "    }\n",
       "\n",
       "    .dataframe thead th {\n",
       "        text-align: right;\n",
       "    }\n",
       "</style>\n",
       "<table border=\"1\" class=\"dataframe\">\n",
       "  <thead>\n",
       "    <tr style=\"text-align: right;\">\n",
       "      <th></th>\n",
       "      <th>Country</th>\n",
       "      <th>Age</th>\n",
       "      <th>Gender</th>\n",
       "      <th>fever</th>\n",
       "      <th>Bodypain</th>\n",
       "      <th>Runny_nose</th>\n",
       "      <th>Difficulty_in_breathing</th>\n",
       "      <th>Nasal_congestion</th>\n",
       "      <th>Sore_throat</th>\n",
       "      <th>Severity</th>\n",
       "      <th>Contact_with_covid_patient</th>\n",
       "      <th>Infected</th>\n",
       "    </tr>\n",
       "  </thead>\n",
       "  <tbody>\n",
       "    <tr>\n",
       "      <th>0</th>\n",
       "      <td>China</td>\n",
       "      <td>10</td>\n",
       "      <td>Male</td>\n",
       "      <td>102</td>\n",
       "      <td>1</td>\n",
       "      <td>0</td>\n",
       "      <td>0</td>\n",
       "      <td>0</td>\n",
       "      <td>1</td>\n",
       "      <td>Mild</td>\n",
       "      <td>No</td>\n",
       "      <td>0</td>\n",
       "    </tr>\n",
       "    <tr>\n",
       "      <th>1</th>\n",
       "      <td>Italy</td>\n",
       "      <td>20</td>\n",
       "      <td>Male</td>\n",
       "      <td>103</td>\n",
       "      <td>1</td>\n",
       "      <td>1</td>\n",
       "      <td>0</td>\n",
       "      <td>0</td>\n",
       "      <td>0</td>\n",
       "      <td>Moderate</td>\n",
       "      <td>Not known</td>\n",
       "      <td>1</td>\n",
       "    </tr>\n",
       "    <tr>\n",
       "      <th>2</th>\n",
       "      <td>Iran</td>\n",
       "      <td>55</td>\n",
       "      <td>Transgender</td>\n",
       "      <td>99</td>\n",
       "      <td>0</td>\n",
       "      <td>0</td>\n",
       "      <td>0</td>\n",
       "      <td>1</td>\n",
       "      <td>1</td>\n",
       "      <td>Severe</td>\n",
       "      <td>No</td>\n",
       "      <td>0</td>\n",
       "    </tr>\n",
       "    <tr>\n",
       "      <th>3</th>\n",
       "      <td>Republic of Korean</td>\n",
       "      <td>37</td>\n",
       "      <td>Female</td>\n",
       "      <td>100</td>\n",
       "      <td>0</td>\n",
       "      <td>1</td>\n",
       "      <td>1</td>\n",
       "      <td>0</td>\n",
       "      <td>0</td>\n",
       "      <td>Mild</td>\n",
       "      <td>Yes</td>\n",
       "      <td>1</td>\n",
       "    </tr>\n",
       "    <tr>\n",
       "      <th>4</th>\n",
       "      <td>France</td>\n",
       "      <td>45</td>\n",
       "      <td>Male</td>\n",
       "      <td>101</td>\n",
       "      <td>1</td>\n",
       "      <td>1</td>\n",
       "      <td>1</td>\n",
       "      <td>1</td>\n",
       "      <td>0</td>\n",
       "      <td>Moderate</td>\n",
       "      <td>Yes</td>\n",
       "      <td>1</td>\n",
       "    </tr>\n",
       "  </tbody>\n",
       "</table>\n",
       "</div>"
      ],
      "text/plain": [
       "              Country  Age       Gender  fever  Bodypain  Runny_nose  \\\n",
       "0               China   10         Male    102         1           0   \n",
       "1               Italy   20         Male    103         1           1   \n",
       "2                Iran   55  Transgender     99         0           0   \n",
       "3  Republic of Korean   37       Female    100         0           1   \n",
       "4              France   45         Male    101         1           1   \n",
       "\n",
       "   Difficulty_in_breathing  Nasal_congestion  Sore_throat  Severity  \\\n",
       "0                        0                 0            1      Mild   \n",
       "1                        0                 0            0  Moderate   \n",
       "2                        0                 1            1    Severe   \n",
       "3                        1                 0            0      Mild   \n",
       "4                        1                 1            0  Moderate   \n",
       "\n",
       "  Contact_with_covid_patient  Infected  \n",
       "0                         No         0  \n",
       "1                  Not known         1  \n",
       "2                         No         0  \n",
       "3                        Yes         1  \n",
       "4                        Yes         1  "
      ]
     },
     "execution_count": 3,
     "metadata": {},
     "output_type": "execute_result"
    }
   ],
   "source": [
    "covid.head()"
   ]
  },
  {
   "cell_type": "code",
   "execution_count": 4,
   "id": "acfc7078",
   "metadata": {},
   "outputs": [
    {
     "data": {
      "text/html": [
       "<div>\n",
       "<style scoped>\n",
       "    .dataframe tbody tr th:only-of-type {\n",
       "        vertical-align: middle;\n",
       "    }\n",
       "\n",
       "    .dataframe tbody tr th {\n",
       "        vertical-align: top;\n",
       "    }\n",
       "\n",
       "    .dataframe thead th {\n",
       "        text-align: right;\n",
       "    }\n",
       "</style>\n",
       "<table border=\"1\" class=\"dataframe\">\n",
       "  <thead>\n",
       "    <tr style=\"text-align: right;\">\n",
       "      <th></th>\n",
       "      <th>Country</th>\n",
       "      <th>Age</th>\n",
       "      <th>Gender</th>\n",
       "      <th>fever</th>\n",
       "      <th>Bodypain</th>\n",
       "      <th>Runny_nose</th>\n",
       "      <th>Difficulty_in_breathing</th>\n",
       "      <th>Nasal_congestion</th>\n",
       "      <th>Sore_throat</th>\n",
       "      <th>Severity</th>\n",
       "      <th>Contact_with_covid_patient</th>\n",
       "      <th>Infected</th>\n",
       "    </tr>\n",
       "  </thead>\n",
       "  <tbody>\n",
       "    <tr>\n",
       "      <th>2494</th>\n",
       "      <td>Myanmar</td>\n",
       "      <td>73</td>\n",
       "      <td>Male</td>\n",
       "      <td>98</td>\n",
       "      <td>0</td>\n",
       "      <td>1</td>\n",
       "      <td>0</td>\n",
       "      <td>0</td>\n",
       "      <td>0</td>\n",
       "      <td>Mild</td>\n",
       "      <td>No</td>\n",
       "      <td>0</td>\n",
       "    </tr>\n",
       "    <tr>\n",
       "      <th>2495</th>\n",
       "      <td>Cambodia</td>\n",
       "      <td>35</td>\n",
       "      <td>Female</td>\n",
       "      <td>104</td>\n",
       "      <td>1</td>\n",
       "      <td>0</td>\n",
       "      <td>1</td>\n",
       "      <td>0</td>\n",
       "      <td>0</td>\n",
       "      <td>Mild</td>\n",
       "      <td>Not known</td>\n",
       "      <td>1</td>\n",
       "    </tr>\n",
       "    <tr>\n",
       "      <th>2496</th>\n",
       "      <td>Finland</td>\n",
       "      <td>18</td>\n",
       "      <td>Female</td>\n",
       "      <td>99</td>\n",
       "      <td>1</td>\n",
       "      <td>0</td>\n",
       "      <td>0</td>\n",
       "      <td>1</td>\n",
       "      <td>1</td>\n",
       "      <td>Mild</td>\n",
       "      <td>Yes</td>\n",
       "      <td>1</td>\n",
       "    </tr>\n",
       "    <tr>\n",
       "      <th>2497</th>\n",
       "      <td>Morocco</td>\n",
       "      <td>39</td>\n",
       "      <td>Female</td>\n",
       "      <td>100</td>\n",
       "      <td>1</td>\n",
       "      <td>0</td>\n",
       "      <td>1</td>\n",
       "      <td>0</td>\n",
       "      <td>0</td>\n",
       "      <td>Mild</td>\n",
       "      <td>Not known</td>\n",
       "      <td>1</td>\n",
       "    </tr>\n",
       "    <tr>\n",
       "      <th>2498</th>\n",
       "      <td>Japan</td>\n",
       "      <td>55</td>\n",
       "      <td>Female</td>\n",
       "      <td>102</td>\n",
       "      <td>1</td>\n",
       "      <td>0</td>\n",
       "      <td>1</td>\n",
       "      <td>1</td>\n",
       "      <td>0</td>\n",
       "      <td>Severe</td>\n",
       "      <td>Yes</td>\n",
       "      <td>1</td>\n",
       "    </tr>\n",
       "  </tbody>\n",
       "</table>\n",
       "</div>"
      ],
      "text/plain": [
       "       Country  Age  Gender  fever  Bodypain  Runny_nose  \\\n",
       "2494   Myanmar   73    Male     98         0           1   \n",
       "2495  Cambodia   35  Female    104         1           0   \n",
       "2496   Finland   18  Female     99         1           0   \n",
       "2497   Morocco   39  Female    100         1           0   \n",
       "2498     Japan   55  Female    102         1           0   \n",
       "\n",
       "      Difficulty_in_breathing  Nasal_congestion  Sore_throat Severity  \\\n",
       "2494                        0                 0            0     Mild   \n",
       "2495                        1                 0            0     Mild   \n",
       "2496                        0                 1            1     Mild   \n",
       "2497                        1                 0            0     Mild   \n",
       "2498                        1                 1            0   Severe   \n",
       "\n",
       "     Contact_with_covid_patient  Infected  \n",
       "2494                         No         0  \n",
       "2495                  Not known         1  \n",
       "2496                        Yes         1  \n",
       "2497                  Not known         1  \n",
       "2498                        Yes         1  "
      ]
     },
     "execution_count": 4,
     "metadata": {},
     "output_type": "execute_result"
    }
   ],
   "source": [
    "covid.tail()"
   ]
  },
  {
   "cell_type": "code",
   "execution_count": 5,
   "id": "07037084",
   "metadata": {},
   "outputs": [
    {
     "data": {
      "text/plain": [
       "(2499, 12)"
      ]
     },
     "execution_count": 5,
     "metadata": {},
     "output_type": "execute_result"
    }
   ],
   "source": [
    "covid.shape"
   ]
  },
  {
   "cell_type": "code",
   "execution_count": 6,
   "id": "525866c3",
   "metadata": {},
   "outputs": [
    {
     "name": "stdout",
     "output_type": "stream",
     "text": [
      "<class 'pandas.core.frame.DataFrame'>\n",
      "RangeIndex: 2499 entries, 0 to 2498\n",
      "Data columns (total 12 columns):\n",
      " #   Column                      Non-Null Count  Dtype \n",
      "---  ------                      --------------  ----- \n",
      " 0   Country                     2499 non-null   object\n",
      " 1   Age                         2499 non-null   int64 \n",
      " 2   Gender                      2499 non-null   object\n",
      " 3   fever                       2499 non-null   int64 \n",
      " 4   Bodypain                    2499 non-null   int64 \n",
      " 5   Runny_nose                  2499 non-null   int64 \n",
      " 6   Difficulty_in_breathing     2499 non-null   int64 \n",
      " 7   Nasal_congestion            2499 non-null   int64 \n",
      " 8   Sore_throat                 2499 non-null   int64 \n",
      " 9   Severity                    2499 non-null   object\n",
      " 10  Contact_with_covid_patient  2499 non-null   object\n",
      " 11  Infected                    2499 non-null   int64 \n",
      "dtypes: int64(8), object(4)\n",
      "memory usage: 234.4+ KB\n"
     ]
    }
   ],
   "source": [
    "covid.info()"
   ]
  },
  {
   "cell_type": "code",
   "execution_count": 7,
   "id": "fb26fa6f",
   "metadata": {},
   "outputs": [
    {
     "data": {
      "text/plain": [
       "55    353\n",
       "37    335\n",
       "35    301\n",
       "18    238\n",
       "45    206\n",
       "39    181\n",
       "65    165\n",
       "24    162\n",
       "70     97\n",
       "40     92\n",
       "76     54\n",
       "75     51\n",
       "82     50\n",
       "73     48\n",
       "30     37\n",
       "50     33\n",
       "20     29\n",
       "10     27\n",
       "16     15\n",
       "60      7\n",
       "80      4\n",
       "33      3\n",
       "23      2\n",
       "31      1\n",
       "78      1\n",
       "66      1\n",
       "64      1\n",
       "71      1\n",
       "22      1\n",
       "79      1\n",
       "81      1\n",
       "89      1\n",
       "Name: Age, dtype: int64"
      ]
     },
     "execution_count": 7,
     "metadata": {},
     "output_type": "execute_result"
    }
   ],
   "source": [
    "covid['Age'].value_counts()"
   ]
  },
  {
   "cell_type": "code",
   "execution_count": 8,
   "id": "1a8eff85",
   "metadata": {},
   "outputs": [
    {
     "data": {
      "text/plain": [
       "Male           1257\n",
       "Female         1208\n",
       "Transgender      34\n",
       "Name: Gender, dtype: int64"
      ]
     },
     "execution_count": 8,
     "metadata": {},
     "output_type": "execute_result"
    }
   ],
   "source": [
    "covid['Gender'].value_counts()"
   ]
  },
  {
   "cell_type": "code",
   "execution_count": 9,
   "id": "2c2b3268",
   "metadata": {},
   "outputs": [
    {
     "data": {
      "text/plain": [
       "100    566\n",
       "99     559\n",
       "101    482\n",
       "103    307\n",
       "98     222\n",
       "102    194\n",
       "104    169\n",
       "Name: fever, dtype: int64"
      ]
     },
     "execution_count": 9,
     "metadata": {},
     "output_type": "execute_result"
    }
   ],
   "source": [
    "covid['fever'].value_counts()"
   ]
  },
  {
   "cell_type": "code",
   "execution_count": 10,
   "id": "b031a62d",
   "metadata": {},
   "outputs": [
    {
     "name": "stdout",
     "output_type": "stream",
     "text": [
      "<class 'pandas.core.frame.DataFrame'>\n",
      "RangeIndex: 2499 entries, 0 to 2498\n",
      "Data columns (total 12 columns):\n",
      " #   Column                      Non-Null Count  Dtype \n",
      "---  ------                      --------------  ----- \n",
      " 0   Country                     2499 non-null   object\n",
      " 1   Age                         2499 non-null   int64 \n",
      " 2   Gender                      2499 non-null   object\n",
      " 3   fever                       2499 non-null   int64 \n",
      " 4   Bodypain                    2499 non-null   int64 \n",
      " 5   Runny_nose                  2499 non-null   int64 \n",
      " 6   Difficulty_in_breathing     2499 non-null   int64 \n",
      " 7   Nasal_congestion            2499 non-null   int64 \n",
      " 8   Sore_throat                 2499 non-null   int64 \n",
      " 9   Severity                    2499 non-null   object\n",
      " 10  Contact_with_covid_patient  2499 non-null   object\n",
      " 11  Infected                    2499 non-null   int64 \n",
      "dtypes: int64(8), object(4)\n",
      "memory usage: 234.4+ KB\n"
     ]
    }
   ],
   "source": [
    "covid.info()"
   ]
  },
  {
   "cell_type": "code",
   "execution_count": 11,
   "id": "943e0cf0",
   "metadata": {},
   "outputs": [
    {
     "data": {
      "text/html": [
       "<div>\n",
       "<style scoped>\n",
       "    .dataframe tbody tr th:only-of-type {\n",
       "        vertical-align: middle;\n",
       "    }\n",
       "\n",
       "    .dataframe tbody tr th {\n",
       "        vertical-align: top;\n",
       "    }\n",
       "\n",
       "    .dataframe thead th {\n",
       "        text-align: right;\n",
       "    }\n",
       "</style>\n",
       "<table border=\"1\" class=\"dataframe\">\n",
       "  <thead>\n",
       "    <tr style=\"text-align: right;\">\n",
       "      <th></th>\n",
       "      <th>Age</th>\n",
       "      <th>fever</th>\n",
       "      <th>Bodypain</th>\n",
       "      <th>Runny_nose</th>\n",
       "      <th>Difficulty_in_breathing</th>\n",
       "      <th>Nasal_congestion</th>\n",
       "      <th>Sore_throat</th>\n",
       "      <th>Infected</th>\n",
       "    </tr>\n",
       "  </thead>\n",
       "  <tbody>\n",
       "    <tr>\n",
       "      <th>count</th>\n",
       "      <td>2499.000000</td>\n",
       "      <td>2499.000000</td>\n",
       "      <td>2499.000000</td>\n",
       "      <td>2499.000000</td>\n",
       "      <td>2499.000000</td>\n",
       "      <td>2499.000000</td>\n",
       "      <td>2499.000000</td>\n",
       "      <td>2499.000000</td>\n",
       "    </tr>\n",
       "    <tr>\n",
       "      <th>mean</th>\n",
       "      <td>43.573429</td>\n",
       "      <td>100.585834</td>\n",
       "      <td>0.652261</td>\n",
       "      <td>0.294518</td>\n",
       "      <td>0.484194</td>\n",
       "      <td>0.470188</td>\n",
       "      <td>0.509804</td>\n",
       "      <td>0.504202</td>\n",
       "    </tr>\n",
       "    <tr>\n",
       "      <th>std</th>\n",
       "      <td>17.379751</td>\n",
       "      <td>1.711163</td>\n",
       "      <td>0.476348</td>\n",
       "      <td>0.455917</td>\n",
       "      <td>0.499850</td>\n",
       "      <td>0.499210</td>\n",
       "      <td>0.500004</td>\n",
       "      <td>0.500082</td>\n",
       "    </tr>\n",
       "    <tr>\n",
       "      <th>min</th>\n",
       "      <td>10.000000</td>\n",
       "      <td>98.000000</td>\n",
       "      <td>0.000000</td>\n",
       "      <td>0.000000</td>\n",
       "      <td>0.000000</td>\n",
       "      <td>0.000000</td>\n",
       "      <td>0.000000</td>\n",
       "      <td>0.000000</td>\n",
       "    </tr>\n",
       "    <tr>\n",
       "      <th>25%</th>\n",
       "      <td>35.000000</td>\n",
       "      <td>99.000000</td>\n",
       "      <td>0.000000</td>\n",
       "      <td>0.000000</td>\n",
       "      <td>0.000000</td>\n",
       "      <td>0.000000</td>\n",
       "      <td>0.000000</td>\n",
       "      <td>0.000000</td>\n",
       "    </tr>\n",
       "    <tr>\n",
       "      <th>50%</th>\n",
       "      <td>39.000000</td>\n",
       "      <td>100.000000</td>\n",
       "      <td>1.000000</td>\n",
       "      <td>0.000000</td>\n",
       "      <td>0.000000</td>\n",
       "      <td>0.000000</td>\n",
       "      <td>1.000000</td>\n",
       "      <td>1.000000</td>\n",
       "    </tr>\n",
       "    <tr>\n",
       "      <th>75%</th>\n",
       "      <td>55.000000</td>\n",
       "      <td>102.000000</td>\n",
       "      <td>1.000000</td>\n",
       "      <td>1.000000</td>\n",
       "      <td>1.000000</td>\n",
       "      <td>1.000000</td>\n",
       "      <td>1.000000</td>\n",
       "      <td>1.000000</td>\n",
       "    </tr>\n",
       "    <tr>\n",
       "      <th>max</th>\n",
       "      <td>89.000000</td>\n",
       "      <td>104.000000</td>\n",
       "      <td>1.000000</td>\n",
       "      <td>1.000000</td>\n",
       "      <td>1.000000</td>\n",
       "      <td>1.000000</td>\n",
       "      <td>1.000000</td>\n",
       "      <td>1.000000</td>\n",
       "    </tr>\n",
       "  </tbody>\n",
       "</table>\n",
       "</div>"
      ],
      "text/plain": [
       "               Age        fever     Bodypain   Runny_nose  \\\n",
       "count  2499.000000  2499.000000  2499.000000  2499.000000   \n",
       "mean     43.573429   100.585834     0.652261     0.294518   \n",
       "std      17.379751     1.711163     0.476348     0.455917   \n",
       "min      10.000000    98.000000     0.000000     0.000000   \n",
       "25%      35.000000    99.000000     0.000000     0.000000   \n",
       "50%      39.000000   100.000000     1.000000     0.000000   \n",
       "75%      55.000000   102.000000     1.000000     1.000000   \n",
       "max      89.000000   104.000000     1.000000     1.000000   \n",
       "\n",
       "       Difficulty_in_breathing  Nasal_congestion  Sore_throat     Infected  \n",
       "count              2499.000000       2499.000000  2499.000000  2499.000000  \n",
       "mean                  0.484194          0.470188     0.509804     0.504202  \n",
       "std                   0.499850          0.499210     0.500004     0.500082  \n",
       "min                   0.000000          0.000000     0.000000     0.000000  \n",
       "25%                   0.000000          0.000000     0.000000     0.000000  \n",
       "50%                   0.000000          0.000000     1.000000     1.000000  \n",
       "75%                   1.000000          1.000000     1.000000     1.000000  \n",
       "max                   1.000000          1.000000     1.000000     1.000000  "
      ]
     },
     "execution_count": 11,
     "metadata": {},
     "output_type": "execute_result"
    }
   ],
   "source": [
    "covid.describe()"
   ]
  },
  {
   "cell_type": "markdown",
   "id": "1e06b127",
   "metadata": {},
   "source": [
    "### Analysing/ representing the data by Histogram, Heatmap and Countplot"
   ]
  },
  {
   "cell_type": "code",
   "execution_count": 12,
   "id": "2d0cdee6",
   "metadata": {},
   "outputs": [
    {
     "data": {
      "image/png": "[encoded data removed]",
      "text/plain": [
       "<Figure size 1152x648 with 9 Axes>"
      ]
     },
     "metadata": {},
     "output_type": "display_data"
    }
   ],
   "source": [
    "covid.hist(bins=20, figsize=(16,9))\n",
    "plt.show()"
   ]
  },
  {
   "cell_type": "code",
   "execution_count": 13,
   "id": "8170e88b",
   "metadata": {},
   "outputs": [
    {
     "data": {
      "text/plain": [
       "Infected                   1.000000\n",
       "Difficulty_in_breathing    0.483518\n",
       "Bodypain                   0.442229\n",
       "fever                      0.390555\n",
       "Nasal_congestion           0.287938\n",
       "Runny_nose                 0.284281\n",
       "Age                        0.165147\n",
       "Sore_throat               -0.218302\n",
       "Name: Infected, dtype: float64"
      ]
     },
     "execution_count": 13,
     "metadata": {},
     "output_type": "execute_result"
    }
   ],
   "source": [
    "corr_matrix = covid.corr()\n",
    "corr_matrix['Infected'].sort_values(ascending = False)"
   ]
  },
  {
   "cell_type": "code",
   "execution_count": 14,
   "id": "da33cf01",
   "metadata": {},
   "outputs": [
    {
     "data": {
      "image/png": "[encoded data removed]",
      "text/plain": [
       "<Figure size 1440x1440 with 2 Axes>"
      ]
     },
     "metadata": {},
     "output_type": "display_data"
    }
   ],
   "source": [
    "plt.figure(figsize = (20,20))\n",
    "sns.heatmap(corr_matrix.corr(), annot=True)\n",
    "plt.show()"
   ]
  },
  {
   "cell_type": "code",
   "execution_count": 15,
   "id": "671f1146",
   "metadata": {},
   "outputs": [
    {
     "data": {
      "text/plain": [
       "<AxesSubplot:xlabel='Infected', ylabel='count'>"
      ]
     },
     "execution_count": 15,
     "metadata": {},
     "output_type": "execute_result"
    },
    {
     "data": {
      "image/png": "[encoded data removed]",
      "text/plain": [
       "<Figure size 864x432 with 1 Axes>"
      ]
     },
     "metadata": {},
     "output_type": "display_data"
    }
   ],
   "source": [
    "plt.figure(figsize = (12,6))\n",
    "sns.countplot(data = covid, x = \"Infected\", hue = \"Severity\")"
   ]
  },
  {
   "cell_type": "markdown",
   "id": "b94d301f",
   "metadata": {},
   "source": [
    "## Creating a model for analysing the covid case of China"
   ]
  },
  {
   "cell_type": "code",
   "execution_count": 16,
   "id": "136a69e4",
   "metadata": {},
   "outputs": [
    {
     "data": {
      "text/html": [
       "<div>\n",
       "<style scoped>\n",
       "    .dataframe tbody tr th:only-of-type {\n",
       "        vertical-align: middle;\n",
       "    }\n",
       "\n",
       "    .dataframe tbody tr th {\n",
       "        vertical-align: top;\n",
       "    }\n",
       "\n",
       "    .dataframe thead th {\n",
       "        text-align: right;\n",
       "    }\n",
       "</style>\n",
       "<table border=\"1\" class=\"dataframe\">\n",
       "  <thead>\n",
       "    <tr style=\"text-align: right;\">\n",
       "      <th></th>\n",
       "      <th>Country</th>\n",
       "      <th>Age</th>\n",
       "      <th>Gender</th>\n",
       "      <th>fever</th>\n",
       "      <th>Bodypain</th>\n",
       "      <th>Runny_nose</th>\n",
       "      <th>Difficulty_in_breathing</th>\n",
       "      <th>Nasal_congestion</th>\n",
       "      <th>Sore_throat</th>\n",
       "      <th>Severity</th>\n",
       "      <th>Contact_with_covid_patient</th>\n",
       "      <th>Infected</th>\n",
       "    </tr>\n",
       "  </thead>\n",
       "  <tbody>\n",
       "    <tr>\n",
       "      <th>0</th>\n",
       "      <td>China</td>\n",
       "      <td>10</td>\n",
       "      <td>Male</td>\n",
       "      <td>102</td>\n",
       "      <td>1</td>\n",
       "      <td>0</td>\n",
       "      <td>0</td>\n",
       "      <td>0</td>\n",
       "      <td>1</td>\n",
       "      <td>Mild</td>\n",
       "      <td>No</td>\n",
       "      <td>0</td>\n",
       "    </tr>\n",
       "    <tr>\n",
       "      <th>10</th>\n",
       "      <td>China</td>\n",
       "      <td>35</td>\n",
       "      <td>Male</td>\n",
       "      <td>101</td>\n",
       "      <td>1</td>\n",
       "      <td>0</td>\n",
       "      <td>1</td>\n",
       "      <td>1</td>\n",
       "      <td>1</td>\n",
       "      <td>Severe</td>\n",
       "      <td>Not known</td>\n",
       "      <td>1</td>\n",
       "    </tr>\n",
       "    <tr>\n",
       "      <th>74</th>\n",
       "      <td>China</td>\n",
       "      <td>39</td>\n",
       "      <td>Female</td>\n",
       "      <td>100</td>\n",
       "      <td>1</td>\n",
       "      <td>0</td>\n",
       "      <td>1</td>\n",
       "      <td>0</td>\n",
       "      <td>0</td>\n",
       "      <td>Mild</td>\n",
       "      <td>Not known</td>\n",
       "      <td>1</td>\n",
       "    </tr>\n",
       "    <tr>\n",
       "      <th>99</th>\n",
       "      <td>China</td>\n",
       "      <td>10</td>\n",
       "      <td>Male</td>\n",
       "      <td>102</td>\n",
       "      <td>1</td>\n",
       "      <td>0</td>\n",
       "      <td>0</td>\n",
       "      <td>0</td>\n",
       "      <td>1</td>\n",
       "      <td>Mild</td>\n",
       "      <td>No</td>\n",
       "      <td>0</td>\n",
       "    </tr>\n",
       "    <tr>\n",
       "      <th>109</th>\n",
       "      <td>China</td>\n",
       "      <td>45</td>\n",
       "      <td>Female</td>\n",
       "      <td>99</td>\n",
       "      <td>1</td>\n",
       "      <td>0</td>\n",
       "      <td>0</td>\n",
       "      <td>0</td>\n",
       "      <td>1</td>\n",
       "      <td>Mild</td>\n",
       "      <td>Not known</td>\n",
       "      <td>1</td>\n",
       "    </tr>\n",
       "  </tbody>\n",
       "</table>\n",
       "</div>"
      ],
      "text/plain": [
       "    Country  Age  Gender  fever  Bodypain  Runny_nose  \\\n",
       "0     China   10    Male    102         1           0   \n",
       "10    China   35    Male    101         1           0   \n",
       "74    China   39  Female    100         1           0   \n",
       "99    China   10    Male    102         1           0   \n",
       "109   China   45  Female     99         1           0   \n",
       "\n",
       "     Difficulty_in_breathing  Nasal_congestion  Sore_throat Severity  \\\n",
       "0                          0                 0            1     Mild   \n",
       "10                         1                 1            1   Severe   \n",
       "74                         1                 0            0     Mild   \n",
       "99                         0                 0            1     Mild   \n",
       "109                        0                 0            1     Mild   \n",
       "\n",
       "    Contact_with_covid_patient  Infected  \n",
       "0                           No         0  \n",
       "10                   Not known         1  \n",
       "74                   Not known         1  \n",
       "99                          No         0  \n",
       "109                  Not known         1  "
      ]
     },
     "execution_count": 16,
     "metadata": {},
     "output_type": "execute_result"
    }
   ],
   "source": [
    "China_case = covid[covid[\"Country\"] == \"China\"]\n",
    "China_case.head()"
   ]
  },
  {
   "cell_type": "code",
   "execution_count": 17,
   "id": "c298d870",
   "metadata": {},
   "outputs": [
    {
     "data": {
      "text/plain": [
       "(83, 12)"
      ]
     },
     "execution_count": 17,
     "metadata": {},
     "output_type": "execute_result"
    }
   ],
   "source": [
    "China_case.shape"
   ]
  },
  {
   "cell_type": "code",
   "execution_count": 18,
   "id": "ef1d9d85",
   "metadata": {},
   "outputs": [],
   "source": [
    "x = China_case['Age']\n",
    "y = China_case[\"Infected\"]"
   ]
  },
  {
   "cell_type": "code",
   "execution_count": 19,
   "id": "870f492a",
   "metadata": {},
   "outputs": [],
   "source": [
    "from sklearn.model_selection import train_test_split"
   ]
  },
  {
   "cell_type": "code",
   "execution_count": 20,
   "id": "a5cedd30",
   "metadata": {},
   "outputs": [],
   "source": [
    "X_train, X_test, y_train, y_test = train_test_split(x,y,test_size=0.3, random_state=30)"
   ]
  },
  {
   "cell_type": "markdown",
   "id": "39dc831c",
   "metadata": {},
   "source": [
    "## Training and Testing the data using RandomForestClassifier"
   ]
  },
  {
   "cell_type": "code",
   "execution_count": 21,
   "id": "3061a832",
   "metadata": {},
   "outputs": [],
   "source": [
    "from sklearn.ensemble import RandomForestClassifier\n",
    "from sklearn.metrics import accuracy_score"
   ]
  },
  {
   "cell_type": "code",
   "execution_count": 22,
   "id": "29992500",
   "metadata": {},
   "outputs": [],
   "source": [
    "rnd_clf = RandomForestClassifier()"
   ]
  },
  {
   "cell_type": "code",
   "execution_count": 23,
   "id": "fd6bff09",
   "metadata": {},
   "outputs": [
    {
     "data": {
      "text/plain": [
       "RandomForestClassifier()"
      ]
     },
     "execution_count": 23,
     "metadata": {},
     "output_type": "execute_result"
    }
   ],
   "source": [
    "rnd_clf.fit(np.array(X_train).reshape(-1,1), np.array(y_train).reshape(-1,1))"
   ]
  },
  {
   "cell_type": "code",
   "execution_count": 24,
   "id": "35929de5",
   "metadata": {},
   "outputs": [
    {
     "data": {
      "text/plain": [
       "0.8275862068965517"
      ]
     },
     "execution_count": 24,
     "metadata": {},
     "output_type": "execute_result"
    }
   ],
   "source": [
    "rnd_clf.score(np.array(X_train).reshape(-1,1), np.array(y_train).reshape(-1,1))"
   ]
  },
  {
   "cell_type": "markdown",
   "id": "768e190a",
   "metadata": {},
   "source": [
    "### Training"
   ]
  },
  {
   "cell_type": "code",
   "execution_count": 25,
   "id": "640a1c4d",
   "metadata": {},
   "outputs": [],
   "source": [
    "y_rnd_pred = rnd_clf.predict(np.array(X_test).reshape(-1,1))"
   ]
  },
  {
   "cell_type": "code",
   "execution_count": 26,
   "id": "16a5ab77",
   "metadata": {},
   "outputs": [],
   "source": [
    "y_rnd_pred = rnd_clf.predict(np.array(X_train).reshape(-1,1))"
   ]
  },
  {
   "cell_type": "code",
   "execution_count": 27,
   "id": "6ddfde98",
   "metadata": {},
   "outputs": [],
   "source": [
    "from sklearn.metrics import precision_score, recall_score\n",
    "from sklearn.metrics import accuracy_score, f1_score"
   ]
  },
  {
   "cell_type": "code",
   "execution_count": 28,
   "id": "88430d20",
   "metadata": {},
   "outputs": [
    {
     "name": "stdout",
     "output_type": "stream",
     "text": [
      "Accuracy after CV : 0.8275862068965517\n",
      "Pricision after CV: 0.7\n",
      "Recall after CV   : 0.7777777777777778\n",
      "f1_score after CV : 0.7368421052631577\n"
     ]
    }
   ],
   "source": [
    "print(\"Accuracy after CV :\", accuracy_score(y_train, y_rnd_pred))\n",
    "print(\"Pricision after CV:\", precision_score(y_train, y_rnd_pred))\n",
    "print(\"Recall after CV   :\", recall_score(y_train, y_rnd_pred))\n",
    "print(\"f1_score after CV :\", f1_score(y_train, y_rnd_pred))"
   ]
  },
  {
   "cell_type": "markdown",
   "id": "13e1a9e4",
   "metadata": {},
   "source": [
    "### Testing"
   ]
  },
  {
   "cell_type": "code",
   "execution_count": 29,
   "id": "0bc6ead8",
   "metadata": {},
   "outputs": [],
   "source": [
    "y_rnd_pred = rnd_clf.predict(np.array(X_test).reshape(-1,1))"
   ]
  },
  {
   "cell_type": "code",
   "execution_count": 30,
   "id": "2fdec558",
   "metadata": {},
   "outputs": [
    {
     "name": "stdout",
     "output_type": "stream",
     "text": [
      "Accuracy after CV : 0.68\n",
      "Pricision after CV: 0.6666666666666666\n",
      "Recall after CV   : 0.6666666666666666\n",
      "f1_score after CV : 0.6666666666666666\n"
     ]
    }
   ],
   "source": [
    "print(\"Accuracy after CV :\", accuracy_score(y_test, y_rnd_pred))\n",
    "print(\"Pricision after CV:\", precision_score(y_test, y_rnd_pred))\n",
    "print(\"Recall after CV   :\", recall_score(y_test, y_rnd_pred))\n",
    "print(\"f1_score after CV :\", f1_score(y_test, y_rnd_pred))"
   ]
  },
  {
   "cell_type": "markdown",
   "id": "3de2a0ad",
   "metadata": {},
   "source": [
    "## Testing the model using LogisticRegression"
   ]
  },
  {
   "cell_type": "markdown",
   "id": "94755228",
   "metadata": {},
   "source": [
    "### Test"
   ]
  },
  {
   "cell_type": "code",
   "execution_count": 31,
   "id": "e07baf99",
   "metadata": {},
   "outputs": [],
   "source": [
    "x=covid[['fever','Bodypain','Runny_nose','Difficulty_in_breathing','Nasal_congestion','Sore_throat']].values\n",
    "y=covid['Infected'].values"
   ]
  },
  {
   "cell_type": "code",
   "execution_count": 32,
   "id": "82a98d67",
   "metadata": {},
   "outputs": [],
   "source": [
    "X_train,X_test,y_train,y_test=train_test_split(x,y)"
   ]
  },
  {
   "cell_type": "code",
   "execution_count": 33,
   "id": "3f356c08",
   "metadata": {},
   "outputs": [],
   "source": [
    "from sklearn.linear_model import LogisticRegression\n",
    "from sklearn.metrics import accuracy_score,f1_score\n",
    "from sklearn.metrics import precision_score,recall_score"
   ]
  },
  {
   "cell_type": "code",
   "execution_count": 34,
   "id": "ce4a0196",
   "metadata": {},
   "outputs": [],
   "source": [
    "clf=LogisticRegression()"
   ]
  },
  {
   "cell_type": "code",
   "execution_count": 35,
   "id": "0cdab400",
   "metadata": {},
   "outputs": [
    {
     "data": {
      "text/plain": [
       "LogisticRegression()"
      ]
     },
     "execution_count": 35,
     "metadata": {},
     "output_type": "execute_result"
    }
   ],
   "source": [
    "clf.fit(X_train,y_train)"
   ]
  },
  {
   "cell_type": "code",
   "execution_count": 36,
   "id": "a8d6d016",
   "metadata": {},
   "outputs": [
    {
     "name": "stdout",
     "output_type": "stream",
     "text": [
      "Accuracy after CV : 86.08\n",
      "Pricision after CV: 89.02\n",
      "Recall after CV   : 85.13\n",
      "f1_score after CV : 87.03\n"
     ]
    }
   ],
   "source": [
    "pred=clf.predict(X_test)\n",
    "print(\"Accuracy after CV :\", round(accuracy_score(pred, y_test)*100,2))\n",
    "print(\"Pricision after CV:\", round(precision_score(pred, y_test)*100,2))\n",
    "print(\"Recall after CV   :\", round(recall_score(pred, y_test)*100,2))\n",
    "print(\"f1_score after CV :\", round(f1_score(pred, y_test)*100,2))"
   ]
  },
  {
   "cell_type": "code",
   "execution_count": null,
   "id": "58ef0ca1",
   "metadata": {},
   "outputs": [],
   "source": []
  }
 ],
 "metadata": {
  "kernelspec": {
   "display_name": "Python 3",
   "language": "python",
   "name": "python3"
  },
  "language_info": {
   "codemirror_mode": {
    "name": "ipython",
    "version": 3
   },
   "file_extension": ".py",
   "mimetype": "text/x-python",
   "name": "python",
   "nbconvert_exporter": "python",
   "pygments_lexer": "ipython3",
   "version": "3.8.8"
  }
 },
 "nbformat": 4,
 "nbformat_minor": 5
}
